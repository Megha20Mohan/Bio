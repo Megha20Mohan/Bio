{
  "nbformat": 4,
  "nbformat_minor": 0,
  "metadata": {
    "colab": {
      "name": "GeneAlgoo.ipynb",
      "provenance": [],
      "include_colab_link": true
    },
    "kernelspec": {
      "name": "python3",
      "display_name": "Python 3"
    },
    "language_info": {
      "name": "python"
    }
  },
  "cells": [
    {
      "cell_type": "markdown",
      "metadata": {
        "id": "view-in-github",
        "colab_type": "text"
      },
      "source": [
        "<a href=\"https://colab.research.google.com/github/Megha20Mohan/Bio/blob/main/GeneAlgoo.ipynb\" target=\"_parent\"><img src=\"https://colab.research.google.com/assets/colab-badge.svg\" alt=\"Open In Colab\"/></a>"
      ]
    },
    {
      "cell_type": "code",
      "execution_count": null,
      "metadata": {
        "id": "28ePPzFgo-tE"
      },
      "outputs": [],
      "source": [
        "import random \n",
        "def randomizedmotifsearch(lines):\n",
        "    motifs = []\n",
        "    for n in lines:\n",
        "        for k in range(10):\n",
        "            i = random.randint(0, 365)\n",
        "            lmer=n[i:i+10]\n",
        "            motifs.append(lmer)\n",
        "            # print(motifs)    \n",
        "    return  motifs\n",
        "  "
      ]
    },
    {
      "cell_type": "code",
      "source": [
        "def FitnessScore(Sn, Pn):\n",
        "    pnl = len(Pn)\n",
        "    max_score = 0\n",
        "    for i in range(len(Sn)-pnl+1):\n",
        "        score = 0\n",
        "        seq = Sn[i:i+pnl]\n",
        "        for j in range(pnl):\n",
        "            if Pn[j] == seq[j]:\n",
        "                score+=1/pnl\n",
        "        if score > max_score:\n",
        "            max_score = score\n",
        "    return(max_score)"
      ],
      "metadata": {
        "id": "apxYEPr6pEEY"
      },
      "execution_count": null,
      "outputs": []
    },
    {
      "cell_type": "code",
      "source": [
        "def TotalFitnessScore(sequences, Pn):\n",
        "    L, Ts = len(sequences), 0\n",
        "    for i in range(L):\n",
        "        Ts += FitnessScore(sequences[i], Pn)\n",
        "    return Ts"
      ],
      "metadata": {
        "id": "_nIn2FRNpJF-"
      },
      "execution_count": null,
      "outputs": []
    },
    {
      "cell_type": "code",
      "source": [
        "def crossover(sTable):\n",
        "    Table=[]\n",
        "    for n in range(25):\n",
        "        k = random.randint(2, 13) \n",
        "        i = random.randint(1, len(sTable)-1)\n",
        "        j = random.randint(1, len(sTable)-1) \n",
        "        p1 = sTable[i][\"motif\"]\n",
        "        p2 = sTable[j][\"motif\"]\n",
        " \n",
        "        o1=p1[0:k+1]+p2[k+1:10]\n",
        "        o2=p2[0:k+1]+p1[k+1:10]\n",
        "        Table.append(o1)\n",
        "        Table.append(o2)   \n",
        "    return Table "
      ],
      "metadata": {
        "id": "EhjzipnYpNa4"
      },
      "execution_count": null,
      "outputs": []
    },
    {
      "cell_type": "code",
      "source": [
        "def mutation(p):\n",
        "    randomChar = random.choice(['A', 'C', 'G', 'T'])\n",
        "    seq = list(p)\n",
        "    index = random.randint(3, len(p)-1)\n",
        "    seq[index] = randomChar\n",
        "    return \"\".join(seq)"
      ],
      "metadata": {
        "id": "AzMD-caFpv0c"
      },
      "execution_count": null,
      "outputs": []
    },
    {
      "cell_type": "code",
      "source": [
        "def GeneticAlgorithm(parentTable, count):\n",
        "    if(count >= 50):\n",
        "        return parentTable\n",
        "    childTable=[]\n",
        "    tables = crossover(parentTable)\n",
        "    tables = [mutation(i) for i in tables]\n",
        "    tables \n",
        "    for i in tables:\n",
        "        Pi = i\n",
        "        score = TotalFitnessScore(sequences, Pi)    \n",
        "        childTable.append({\"motif\":Pi,\"score\":score})\n",
        "    childTable = sorted(childTable, key=lambda x: x['score'])\n",
        "    childTable[:10] = parentTable[-10:]\n",
        "    childTable = sorted(childTable, key=lambda x: x['score'])\n",
        "    if(childTable[-1]['score'] == parentTable[-1]['score']):\n",
        "        count+=10\n",
        "    print(childTable)\n",
        "    print(\"-------------------------\")\n",
        "    count+=1;\n",
        "    return (childTable, count)"
      ],
      "metadata": {
        "id": "JdC2IpB5p2ow"
      },
      "execution_count": null,
      "outputs": []
    },
    {
      "cell_type": "code",
      "source": [
        "file = open(\"sequences.txt\")\n",
        "sequences = file.readlines()\n",
        "for n,i in enumerate(sequences):\n",
        "    sequences[n] = i.strip()\n",
        "sequences = sequences[:-1]\n",
        "chars = ['A','C','G','T']\n",
        "scoreTable = []\n",
        " \n",
        "count = 0\n",
        "finalTable = []\n",
        "for i in randomizedmotifsearch(sequences):\n",
        "    Pi = i\n",
        "    score = TotalFitnessScore(sequences, Pi)    \n",
        "    scoreTable.append({\"motif\":Pi,\"score\":score})\n",
        "        \n",
        "for i in range(2):\n",
        "    scoreTable = sorted(scoreTable, key=lambda x: x['score'])\n",
        "    scoreTable = scoreTable[-50:]\n",
        "    finalTable.append(GeneticAlgorithm(scoreTable, count)[-1])\n",
        "#print(finalTable)\n",
        "finalTable = sorted(finalTable, key=lambda x: ['score'])\n",
        "print(\"Motif is : \",  finalTable[-1])"
      ],
      "metadata": {
        "colab": {
          "base_uri": "https://localhost:8080/"
        },
        "id": "CHmQL2JvqFUE",
        "outputId": "e9c33cd4-8aa1-4801-eef9-49e7f8d21338"
      },
      "execution_count": null,
      "outputs": [
        {
          "output_type": "stream",
          "name": "stdout",
          "text": [
            "[{'motif': 'CCCCGCCTAA', 'score': 35.2}, {'motif': 'GACCTAGATA', 'score': 35.20000000000001}, {'motif': 'AGAGGTCAGC', 'score': 35.300000000000004}, {'motif': 'ACCTAGGTTA', 'score': 35.30000000000001}, {'motif': 'TTAGAGGCAG', 'score': 35.39999999999999}, {'motif': 'AGGAAGGGTA', 'score': 35.999999999999986}, {'motif': 'AGAAAAAAGG', 'score': 36.09999999999999}, {'motif': 'CCCCGCCGCA', 'score': 36.2}, {'motif': 'GGTATAGAAA', 'score': 36.29999999999999}, {'motif': 'AGGGGATAGA', 'score': 36.39999999999999}, {'motif': 'AAAGAAGGCA', 'score': 37.29999999999999}, {'motif': 'AGAGGAGAGA', 'score': 37.899999999999984}, {'motif': 'AAAGAAACTA', 'score': 38.0}, {'motif': 'GAGGAATAAA', 'score': 38.099999999999994}, {'motif': 'GGCGTTGAGG', 'score': 38.10000000000002}, {'motif': 'TAGGTGGTTA', 'score': 38.20000000000002}, {'motif': 'GGGGAAAGGA', 'score': 38.39999999999999}, {'motif': 'AAGTAGGAGG', 'score': 38.69999999999999}, {'motif': 'CAAAGGCAAG', 'score': 38.80000000000001}, {'motif': 'GGTGGATAGT', 'score': 38.900000000000006}, {'motif': 'AGCTATGGCG', 'score': 39.30000000000002}, {'motif': 'GGGGAAGATG', 'score': 39.8}, {'motif': 'GGAGGAAGCA', 'score': 40.79999999999998}, {'motif': 'GCAAAGCGGA', 'score': 41.0}, {'motif': 'GAGGAAAGAG', 'score': 41.599999999999966}, {'motif': 'AGGAAGGACG', 'score': 41.69999999999997}, {'motif': 'GAGGAACGAG', 'score': 41.69999999999997}, {'motif': 'GAGGAAGAAG', 'score': 41.69999999999997}, {'motif': 'AGGAACGAAA', 'score': 42.19999999999997}, {'motif': 'GAGGAAGGAA', 'score': 42.29999999999997}, {'motif': 'GAAGAGGCAG', 'score': 42.89999999999996}, {'motif': 'AGGAAGGAAA', 'score': 43.59999999999996}, {'motif': 'AGGATGCAAA', 'score': 43.69999999999996}, {'motif': 'GAGGAAGGTG', 'score': 43.79999999999996}, {'motif': 'AGGAAGCGAA', 'score': 43.899999999999956}, {'motif': 'CAAAGCCGAA', 'score': 44.29999999999995}, {'motif': 'GCAAAGCCGA', 'score': 44.99999999999995}, {'motif': 'AAGAGGAAGG', 'score': 46.5}, {'motif': 'AAGAGGAAGG', 'score': 46.5}, {'motif': 'GGCGAAGAGG', 'score': 46.59999999999999}, {'motif': 'GGCGAAGAGG', 'score': 46.59999999999999}, {'motif': 'GAAGAGGAAG', 'score': 46.8}, {'motif': 'GAAGAGGAAG', 'score': 46.8}, {'motif': 'GAAGAGGAAG', 'score': 46.8}, {'motif': 'GAAGAGGAAG', 'score': 46.8}, {'motif': 'GGAAAGAAAG', 'score': 47.199999999999996}, {'motif': 'CAAAGGCGAA', 'score': 47.69999999999999}, {'motif': 'GGAAGCAAAG', 'score': 48.099999999999994}, {'motif': 'AGGAAGCAAA', 'score': 48.199999999999996}, {'motif': 'AGGAAGCAAA', 'score': 48.199999999999996}]\n",
            "-------------------------\n",
            "[{'motif': 'AAATAGACAG', 'score': 35.7}, {'motif': 'TAGAAGGAGC', 'score': 35.7}, {'motif': 'AGGATGAAGC', 'score': 35.79999999999998}, {'motif': 'GGGGAGGATG', 'score': 35.89999999999997}, {'motif': 'AAATTGGAAA', 'score': 35.89999999999999}, {'motif': 'AGGTGCTTAA', 'score': 35.900000000000006}, {'motif': 'AGGTGGGCGG', 'score': 35.99999999999999}, {'motif': 'AAGAGAGGAA', 'score': 36.00000000000001}, {'motif': 'GGAAGGTGAG', 'score': 36.00000000000001}, {'motif': 'AGGTAATTAG', 'score': 36.1}, {'motif': 'GGTGGTGAGT', 'score': 36.4}, {'motif': 'ACCTAGGGGG', 'score': 36.40000000000001}, {'motif': 'GCTAGGGAGC', 'score': 36.5}, {'motif': 'GCTAGGAAGT', 'score': 36.7}, {'motif': 'GAGGAACGAT', 'score': 37.49999999999999}, {'motif': 'AAAGAGAAAA', 'score': 38.29999999999999}, {'motif': 'TAGAGGAATG', 'score': 38.39999999999999}, {'motif': 'AAGTAGGAAG', 'score': 38.499999999999986}, {'motif': 'AAAAGGATGG', 'score': 38.49999999999999}, {'motif': 'GGAAAGGAAA', 'score': 38.89999999999999}, {'motif': 'CAAAGGCGTT', 'score': 38.90000000000002}, {'motif': 'GAGGAAGGGA', 'score': 38.99999999999999}, {'motif': 'AGGAAAGGCA', 'score': 39.099999999999994}, {'motif': 'AAGGAAAGTC', 'score': 39.300000000000004}, {'motif': 'CAAAGCGGAA', 'score': 40.4}, {'motif': 'CAAAGCCGAT', 'score': 40.80000000000002}, {'motif': 'AGGTAGGTGG', 'score': 41.39999999999998}, {'motif': 'GATAGAAAGA', 'score': 41.499999999999986}, {'motif': 'GAGGATGGAG', 'score': 41.599999999999966}, {'motif': 'AGGAAAGAAC', 'score': 41.69999999999996}, {'motif': 'AAGGACGAAA', 'score': 41.79999999999997}, {'motif': 'GAGGAGAGAA', 'score': 42.29999999999996}, {'motif': 'AAGGAGGATA', 'score': 42.499999999999964}, {'motif': 'GGAAGCAATG', 'score': 43.899999999999956}, {'motif': 'AGGAAGCGAA', 'score': 43.899999999999956}, {'motif': 'GAGGAAAGAA', 'score': 45.4}, {'motif': 'AAGAGGAAGG', 'score': 46.5}, {'motif': 'GGCGAAGAGG', 'score': 46.59999999999999}, {'motif': 'GAAGAGGAAG', 'score': 46.8}, {'motif': 'GAAGAGGAAG', 'score': 46.8}, {'motif': 'GAAGAGGAAG', 'score': 46.8}, {'motif': 'GAAGAGGAAG', 'score': 46.8}, {'motif': 'GAAGAGGAAG', 'score': 46.8}, {'motif': 'GAAGAGGAAG', 'score': 46.8}, {'motif': 'GAAGAGGAAG', 'score': 46.8}, {'motif': 'GAAGAGGAAG', 'score': 46.8}, {'motif': 'GGAAAGAAAG', 'score': 47.199999999999996}, {'motif': 'CAAAGGCGAA', 'score': 47.69999999999999}, {'motif': 'GGAAGCAAAG', 'score': 48.099999999999994}, {'motif': 'AGGAAGCAAA', 'score': 48.199999999999996}]\n",
            "-------------------------\n",
            "Motif is :  11\n"
          ]
        }
      ]
    }
  ]
}